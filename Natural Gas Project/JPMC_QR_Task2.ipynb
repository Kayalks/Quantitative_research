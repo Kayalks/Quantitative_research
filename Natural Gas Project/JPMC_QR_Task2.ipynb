{
  "nbformat": 4,
  "nbformat_minor": 0,
  "metadata": {
    "colab": {
      "provenance": []
    },
    "kernelspec": {
      "name": "python3",
      "display_name": "Python 3"
    },
    "language_info": {
      "name": "python"
    }
  },
  "cells": [
    {
      "cell_type": "markdown",
      "source": [
        "# Prototype Function for Pricing a Gas Storage Contract"
      ],
      "metadata": {
        "id": "cSJRufGw4vIT"
      }
    },
    {
      "cell_type": "code",
      "execution_count": 1,
      "metadata": {
        "id": "uIVd7xYz4kR6"
      },
      "outputs": [],
      "source": [
        "def price_storage_contract(\n",
        "    injection_dates, withdrawal_dates,\n",
        "    purchase_prices, sale_prices,\n",
        "    injection_rate, withdrawal_rate,\n",
        "    max_storage, storage_cost_per_month,\n",
        "    injection_cost_per_mmbtu, withdrawal_cost_per_mmbtu,\n",
        "    transport_cost_per_movement\n",
        "):\n",
        "    \"\"\"\n",
        "    Function to price a natural gas storage contract.\n",
        "\n",
        "    Parameters:\n",
        "    - injection_dates (list of str): Dates when gas is injected.\n",
        "    - withdrawal_dates (list of str): Dates when gas is withdrawn.\n",
        "    - purchase_prices (dict): {date: price} mapping for purchase.\n",
        "    - sale_prices (dict): {date: price} mapping for sale.\n",
        "    - injection_rate (float): Maximum gas that can be injected per date.\n",
        "    - withdrawal_rate (float): Maximum gas that can be withdrawn per date.\n",
        "    - max_storage (float): Maximum storage capacity in MMBtu.\n",
        "    - storage_cost_per_month (float): Monthly storage cost.\n",
        "    - injection_cost_per_mmbtu (float): Cost per MMBtu for injection.\n",
        "    - withdrawal_cost_per_mmbtu (float): Cost per MMBtu for withdrawal.\n",
        "    - transport_cost_per_movement (float): Fixed cost per transport event.\n",
        "\n",
        "    Returns:\n",
        "    - contract_value (float): Net value of the contract.\n",
        "    \"\"\"\n",
        "\n",
        "    import pandas as pd\n",
        "\n",
        "    # Convert dates to datetime\n",
        "    injection_dates = pd.to_datetime(injection_dates)\n",
        "    withdrawal_dates = pd.to_datetime(withdrawal_dates)\n",
        "\n",
        "    # Step 1: Compute injected volume\n",
        "    total_injected_volume = 0\n",
        "    for date in injection_dates:\n",
        "        price = purchase_prices.get(str(date.date()), None)\n",
        "        if price is None:\n",
        "            raise ValueError(f\"Missing purchase price for {date.date()}\")\n",
        "        inject_amount = min(injection_rate, max_storage - total_injected_volume)\n",
        "        total_injected_volume += inject_amount\n",
        "\n",
        "    # Step 2: Compute withdrawn volume\n",
        "    total_withdrawn_volume = 0\n",
        "    for date in withdrawal_dates:\n",
        "        price = sale_prices.get(str(date.date()), None)\n",
        "        if price is None:\n",
        "            raise ValueError(f\"Missing sale price for {date.date()}\")\n",
        "        withdraw_amount = min(withdrawal_rate, total_injected_volume - total_withdrawn_volume)\n",
        "        total_withdrawn_volume += withdraw_amount\n",
        "\n",
        "    # Step 3: Compute revenues\n",
        "    total_revenue = sum(sale_prices[str(date.date())] * min(withdrawal_rate, total_withdrawn_volume)\n",
        "                        for date in withdrawal_dates)\n",
        "\n",
        "    # Step 4: Compute costs\n",
        "    total_cost = sum(purchase_prices[str(date.date())] * min(injection_rate, max_storage)\n",
        "                     for date in injection_dates)\n",
        "\n",
        "    storage_duration = (withdrawal_dates[-1] - injection_dates[0]).days // 30  # Convert days to months\n",
        "    storage_cost = storage_duration * storage_cost_per_month\n",
        "\n",
        "    injection_cost = total_injected_volume * injection_cost_per_mmbtu\n",
        "    withdrawal_cost = total_withdrawn_volume * withdrawal_cost_per_mmbtu\n",
        "    transport_cost = 2 * transport_cost_per_movement  # One for injection, one for withdrawal\n",
        "\n",
        "    total_expenses = total_cost + storage_cost + injection_cost + withdrawal_cost + transport_cost\n",
        "\n",
        "    # Compute final contract value\n",
        "    contract_value = total_revenue - total_expenses\n",
        "\n",
        "    return contract_value\n"
      ]
    },
    {
      "cell_type": "markdown",
      "source": [
        "# Test the Model with Sample Inputs"
      ],
      "metadata": {
        "id": "vMOD4nWS4si5"
      }
    },
    {
      "cell_type": "code",
      "source": [
        "# Sample Inputs\n",
        "injection_dates = [\"2024-06-01\", \"2024-06-15\"]\n",
        "withdrawal_dates = [\"2024-12-01\", \"2024-12-15\"]\n",
        "\n",
        "purchase_prices = {\n",
        "    \"2024-06-01\": 2.5,\n",
        "    \"2024-06-15\": 2.6\n",
        "}\n",
        "\n",
        "sale_prices = {\n",
        "    \"2024-12-01\": 3.8,\n",
        "    \"2024-12-15\": 3.7\n",
        "}\n",
        "\n",
        "# Contract parameters\n",
        "injection_rate = 500000  # MMBtu per transaction\n",
        "withdrawal_rate = 500000  # MMBtu per transaction\n",
        "max_storage = 1000000  # MMBtu\n",
        "storage_cost_per_month = 100000  # $ per month\n",
        "injection_cost_per_mmbtu = 10000 / 1e6  # $10K per 1M MMBtu\n",
        "withdrawal_cost_per_mmbtu = 10000 / 1e6  # $10K per 1M MMBtu\n",
        "transport_cost_per_movement = 50000  # $ per transport event\n",
        "\n",
        "# Run Model\n",
        "contract_value = price_storage_contract(\n",
        "    injection_dates, withdrawal_dates,\n",
        "    purchase_prices, sale_prices,\n",
        "    injection_rate, withdrawal_rate,\n",
        "    max_storage, storage_cost_per_month,\n",
        "    injection_cost_per_mmbtu, withdrawal_cost_per_mmbtu,\n",
        "    transport_cost_per_movement\n",
        ")\n",
        "\n",
        "print(f\"🔹 Estimated Contract Value: ${contract_value:,.2f}\")\n"
      ],
      "metadata": {
        "colab": {
          "base_uri": "https://localhost:8080/"
        },
        "id": "zTqFNtJ14rad",
        "outputId": "da741c62-6c01-4868-c3ce-a07b5c8e0738"
      },
      "execution_count": 2,
      "outputs": [
        {
          "output_type": "stream",
          "name": "stdout",
          "text": [
            "🔹 Estimated Contract Value: $480,000.00\n"
          ]
        }
      ]
    }
  ]
}